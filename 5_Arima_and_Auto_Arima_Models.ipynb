{
  "nbformat": 4,
  "nbformat_minor": 0,
  "metadata": {
    "colab": {
      "provenance": []
    },
    "kernelspec": {
      "name": "python3",
      "display_name": "Python 3"
    },
    "language_info": {
      "name": "python"
    }
  },
  "cells": [
    {
      "cell_type": "markdown",
      "source": [
        "El modelo ARIMA (Autoregressive Integrated Moving Average) y su versión automatizada, conocida como Auto-ARIMA, son herramientas fundamentales en el análisis y la predicción de series temporales. ARIMA es un modelo que combina componentes autoregresivos, de promedio móvil y de diferenciación para modelar y prever patrones en series temporales. Auto-ARIMA, por otro lado, es una variante que busca automáticamente los mejores hiperparámetros para un modelo ARIMA, lo que lo convierte en una opción valiosa para aquellos que desean un enfoque más simplificado y eficiente en la selección del modelo.\n",
        "\n",
        "\n",
        "*The ARIMA (Autoregressive Integrated Moving Average) model and its automated version, known as Auto-ARIMA, are fundamental tools in the analysis and prediction of time series data. ARIMA is a model that combines autoregressive, moving average, and differencing components to model and forecast patterns in time series data. Auto-ARIMA, on the other hand, is a variant that automatically searches for the best hyperparameters for an ARIMA model, making it a valuable choice for those seeking a more streamlined and efficient approach to model selection.*"
      ],
      "metadata": {
        "id": "8Xatcl26oR8b"
      }
    },
    {
      "cell_type": "markdown",
      "source": [
        "## Arima"
      ],
      "metadata": {
        "id": "7yk0rSv8oXsL"
      }
    },
    {
      "cell_type": "markdown",
      "source": [
        "Un modelo ARIMA se caracteriza por 3 términos: p, d, q\n",
        "\n",
        "dónde,\n",
        "\n",
        "p: es el orden del término AR\n",
        "\n",
        "q: es el orden del término MA\n",
        "\n",
        "d: es el número de diferenciaciones necesarias para que la serie de tiempo sea estacionaria\n",
        "\n",
        "Si una serie de tiempo tiene patrones estacionales, entonces debemos agregar términos estacionales a nuestro modelo; esto lo convierte en SARIMA, abreviatura de \"Seasonal ARIMA\".\n",
        "\n",
        "Intentaremos crear primero nuestro modelo Arima de forma \"manual\", es decir, buscando y ajustando los hiperparámetros en un entorno de experimentación. Luego compararemos nuestros resultados con el modelo automatizado.\n",
        "\n"
      ],
      "metadata": {
        "id": "RCiWAtlFoZx8"
      }
    },
    {
      "cell_type": "markdown",
      "source": [
        "*An ARIMA model is characterized by 3 terms: p, d, q*\n",
        "\n",
        "*Where,*\n",
        "\n",
        "*p: is the order of the AR term*\n",
        "\n",
        "*q: is the order of the MA term*\n",
        "\n",
        "*d: is the number of differencings required to make the time series stationary*\n",
        "\n",
        "*If a time series exhibits seasonal patterns, then we need to add seasonal terms to our model, which turns it into SARIMA, an abbreviation for \"Seasonal ARIMA.\"*\n",
        "\n",
        "*We will first attempt to create our ARIMA model manually, meaning we will search for and adjust the hyperparameters in an experimental environment. Then, we will compare our results with the automated model.*"
      ],
      "metadata": {
        "id": "0128IDP5pq--"
      }
    },
    {
      "cell_type": "markdown",
      "source": [
        "##Carga de datos y librerias/ *Loading data and libraries*"
      ],
      "metadata": {
        "id": "d1mT8dAvpzm6"
      }
    },
    {
      "cell_type": "code",
      "execution_count": 4,
      "metadata": {
        "id": "dQ-_UeCon8_m"
      },
      "outputs": [],
      "source": [
        "# Import libraries\n",
        "import random\n",
        "import os\n",
        "import numpy as np\n",
        "import pandas as pd\n",
        "import requests\n",
        "\n",
        "# Date\n",
        "import datetime as dt\n",
        "from datetime import date, timedelta, datetime\n",
        "import time\n",
        "\n",
        "# EDA\n",
        "from sklearn.preprocessing import StandardScaler\n",
        "import plotly.express as px\n",
        "import plotly.graph_objs as go\n",
        "import matplotlib.pyplot as plt\n",
        "import seaborn as sns\n",
        "import math\n",
        "\n",
        "\n",
        "# Time Series - EDA and Modelling\n",
        "import statsmodels.api as sm\n",
        "from statsmodels.graphics.tsaplots import plot_acf, plot_pacf\n",
        "from statsmodels.tsa.stattools import adfuller\n",
        "from statsmodels.tsa.seasonal import seasonal_decompose\n",
        "from statsmodels.tsa.arima_model import ARIMA\n",
        "import statsmodels.api as sm\n",
        "from statsmodels.tsa.ar_model import AutoReg\n",
        "from statsmodels.tsa.arima_model import ARMA\n",
        "from statsmodels.tsa.stattools import adfuller\n",
        "from statsmodels.graphics.tsaplots import plot_acf\n",
        "from statsmodels.graphics.tsaplots import plot_pacf\n",
        "from statsmodels.tsa.statespace.sarimax import SARIMAX\n",
        "from statsmodels.tsa.seasonal import seasonal_decompose\n",
        "from scipy import stats\n",
        "from itertools import product\n",
        "\n",
        "# Metrics\n",
        "from sklearn.metrics import r2_score\n",
        "from sklearn.metrics import mean_squared_error, mean_absolute_percentage_error\n",
        "\n",
        "\n",
        "# Modeling and preprocessing\n",
        "from sklearn.preprocessing import StandardScaler, MinMaxScaler\n",
        "from sklearn.model_selection import train_test_split, GridSearchCV\n",
        "from sklearn.linear_model import LinearRegression\n",
        "from sklearn.svm import SVR, LinearSVR\n",
        "from sklearn.neighbors import KNeighborsRegressor\n",
        "from sklearn.ensemble import RandomForestRegressor\n",
        "from sklearn.ensemble import BaggingRegressor, AdaBoostRegressor\n",
        "from sklearn.neural_network import MLPRegressor\n",
        "from prophet import Prophet\n",
        "import xgboost as xgb\n",
        "from xgboost import XGBRegressor\n",
        "import lightgbm as lgb\n",
        "from lightgbm import LGBMRegressor\n",
        "\n",
        "import warnings\n",
        "warnings.filterwarnings(\"ignore\")"
      ]
    },
    {
      "cell_type": "code",
      "source": [
        "df = pd.read_csv('df_BTC_withTransformations.csv',\n",
        "            index_col = \"date\",\n",
        "            parse_dates = True).asfreq(\"D\")"
      ],
      "metadata": {
        "id": "9AsOOAh6qV-W"
      },
      "execution_count": 5,
      "outputs": []
    },
    {
      "cell_type": "code",
      "source": [
        "df.tail(5)"
      ],
      "metadata": {
        "colab": {
          "base_uri": "https://localhost:8080/",
          "height": 361
        },
        "id": "qFi_RJzHqoMR",
        "outputId": "de147b47-f816-46f6-9994-1b96e89d2419"
      },
      "execution_count": 6,
      "outputs": [
        {
          "output_type": "execute_result",
          "data": {
            "text/plain": [
              "            original_series   diff        sqrt   inverse        log  \\\n",
              "date                                                                  \n",
              "2023-09-05          25722.4   51.9  160.382044  0.000039  10.155117   \n",
              "2023-09-06          25709.9  -12.5  160.343070  0.000039  10.154631   \n",
              "2023-09-07          26146.7  436.8  161.699412  0.000038  10.171478   \n",
              "2023-09-08          25890.6 -256.1  160.905562  0.000039  10.161635   \n",
              "2023-09-09          25883.5   -7.1  160.883498  0.000039  10.161361   \n",
              "\n",
              "                 squared      cubic    boxcox  yeo-johnson  \n",
              "date                                                        \n",
              "2023-09-05  6.616419e+08  29.519149  1.189321     1.191613  \n",
              "2023-09-06  6.609990e+08  29.514366  1.189076     1.191373  \n",
              "2023-09-07  6.836499e+08  29.680574  1.197583     1.199672  \n",
              "2023-09-08  6.703232e+08  29.583351  1.192610     1.194821  \n",
              "2023-09-09  6.699556e+08  29.580647  1.192472     1.194686  "
            ],
            "text/html": [
              "\n",
              "  <div id=\"df-e0e71852-fff3-4ba2-9171-d514eafe522b\" class=\"colab-df-container\">\n",
              "    <div>\n",
              "<style scoped>\n",
              "    .dataframe tbody tr th:only-of-type {\n",
              "        vertical-align: middle;\n",
              "    }\n",
              "\n",
              "    .dataframe tbody tr th {\n",
              "        vertical-align: top;\n",
              "    }\n",
              "\n",
              "    .dataframe thead th {\n",
              "        text-align: right;\n",
              "    }\n",
              "</style>\n",
              "<table border=\"1\" class=\"dataframe\">\n",
              "  <thead>\n",
              "    <tr style=\"text-align: right;\">\n",
              "      <th></th>\n",
              "      <th>original_series</th>\n",
              "      <th>diff</th>\n",
              "      <th>sqrt</th>\n",
              "      <th>inverse</th>\n",
              "      <th>log</th>\n",
              "      <th>squared</th>\n",
              "      <th>cubic</th>\n",
              "      <th>boxcox</th>\n",
              "      <th>yeo-johnson</th>\n",
              "    </tr>\n",
              "    <tr>\n",
              "      <th>date</th>\n",
              "      <th></th>\n",
              "      <th></th>\n",
              "      <th></th>\n",
              "      <th></th>\n",
              "      <th></th>\n",
              "      <th></th>\n",
              "      <th></th>\n",
              "      <th></th>\n",
              "      <th></th>\n",
              "    </tr>\n",
              "  </thead>\n",
              "  <tbody>\n",
              "    <tr>\n",
              "      <th>2023-09-05</th>\n",
              "      <td>25722.4</td>\n",
              "      <td>51.9</td>\n",
              "      <td>160.382044</td>\n",
              "      <td>0.000039</td>\n",
              "      <td>10.155117</td>\n",
              "      <td>6.616419e+08</td>\n",
              "      <td>29.519149</td>\n",
              "      <td>1.189321</td>\n",
              "      <td>1.191613</td>\n",
              "    </tr>\n",
              "    <tr>\n",
              "      <th>2023-09-06</th>\n",
              "      <td>25709.9</td>\n",
              "      <td>-12.5</td>\n",
              "      <td>160.343070</td>\n",
              "      <td>0.000039</td>\n",
              "      <td>10.154631</td>\n",
              "      <td>6.609990e+08</td>\n",
              "      <td>29.514366</td>\n",
              "      <td>1.189076</td>\n",
              "      <td>1.191373</td>\n",
              "    </tr>\n",
              "    <tr>\n",
              "      <th>2023-09-07</th>\n",
              "      <td>26146.7</td>\n",
              "      <td>436.8</td>\n",
              "      <td>161.699412</td>\n",
              "      <td>0.000038</td>\n",
              "      <td>10.171478</td>\n",
              "      <td>6.836499e+08</td>\n",
              "      <td>29.680574</td>\n",
              "      <td>1.197583</td>\n",
              "      <td>1.199672</td>\n",
              "    </tr>\n",
              "    <tr>\n",
              "      <th>2023-09-08</th>\n",
              "      <td>25890.6</td>\n",
              "      <td>-256.1</td>\n",
              "      <td>160.905562</td>\n",
              "      <td>0.000039</td>\n",
              "      <td>10.161635</td>\n",
              "      <td>6.703232e+08</td>\n",
              "      <td>29.583351</td>\n",
              "      <td>1.192610</td>\n",
              "      <td>1.194821</td>\n",
              "    </tr>\n",
              "    <tr>\n",
              "      <th>2023-09-09</th>\n",
              "      <td>25883.5</td>\n",
              "      <td>-7.1</td>\n",
              "      <td>160.883498</td>\n",
              "      <td>0.000039</td>\n",
              "      <td>10.161361</td>\n",
              "      <td>6.699556e+08</td>\n",
              "      <td>29.580647</td>\n",
              "      <td>1.192472</td>\n",
              "      <td>1.194686</td>\n",
              "    </tr>\n",
              "  </tbody>\n",
              "</table>\n",
              "</div>\n",
              "    <div class=\"colab-df-buttons\">\n",
              "\n",
              "  <div class=\"colab-df-container\">\n",
              "    <button class=\"colab-df-convert\" onclick=\"convertToInteractive('df-e0e71852-fff3-4ba2-9171-d514eafe522b')\"\n",
              "            title=\"Convert this dataframe to an interactive table.\"\n",
              "            style=\"display:none;\">\n",
              "\n",
              "  <svg xmlns=\"http://www.w3.org/2000/svg\" height=\"24px\" viewBox=\"0 -960 960 960\">\n",
              "    <path d=\"M120-120v-720h720v720H120Zm60-500h600v-160H180v160Zm220 220h160v-160H400v160Zm0 220h160v-160H400v160ZM180-400h160v-160H180v160Zm440 0h160v-160H620v160ZM180-180h160v-160H180v160Zm440 0h160v-160H620v160Z\"/>\n",
              "  </svg>\n",
              "    </button>\n",
              "\n",
              "  <style>\n",
              "    .colab-df-container {\n",
              "      display:flex;\n",
              "      gap: 12px;\n",
              "    }\n",
              "\n",
              "    .colab-df-convert {\n",
              "      background-color: #E8F0FE;\n",
              "      border: none;\n",
              "      border-radius: 50%;\n",
              "      cursor: pointer;\n",
              "      display: none;\n",
              "      fill: #1967D2;\n",
              "      height: 32px;\n",
              "      padding: 0 0 0 0;\n",
              "      width: 32px;\n",
              "    }\n",
              "\n",
              "    .colab-df-convert:hover {\n",
              "      background-color: #E2EBFA;\n",
              "      box-shadow: 0px 1px 2px rgba(60, 64, 67, 0.3), 0px 1px 3px 1px rgba(60, 64, 67, 0.15);\n",
              "      fill: #174EA6;\n",
              "    }\n",
              "\n",
              "    .colab-df-buttons div {\n",
              "      margin-bottom: 4px;\n",
              "    }\n",
              "\n",
              "    [theme=dark] .colab-df-convert {\n",
              "      background-color: #3B4455;\n",
              "      fill: #D2E3FC;\n",
              "    }\n",
              "\n",
              "    [theme=dark] .colab-df-convert:hover {\n",
              "      background-color: #434B5C;\n",
              "      box-shadow: 0px 1px 3px 1px rgba(0, 0, 0, 0.15);\n",
              "      filter: drop-shadow(0px 1px 2px rgba(0, 0, 0, 0.3));\n",
              "      fill: #FFFFFF;\n",
              "    }\n",
              "  </style>\n",
              "\n",
              "    <script>\n",
              "      const buttonEl =\n",
              "        document.querySelector('#df-e0e71852-fff3-4ba2-9171-d514eafe522b button.colab-df-convert');\n",
              "      buttonEl.style.display =\n",
              "        google.colab.kernel.accessAllowed ? 'block' : 'none';\n",
              "\n",
              "      async function convertToInteractive(key) {\n",
              "        const element = document.querySelector('#df-e0e71852-fff3-4ba2-9171-d514eafe522b');\n",
              "        const dataTable =\n",
              "          await google.colab.kernel.invokeFunction('convertToInteractive',\n",
              "                                                    [key], {});\n",
              "        if (!dataTable) return;\n",
              "\n",
              "        const docLinkHtml = 'Like what you see? Visit the ' +\n",
              "          '<a target=\"_blank\" href=https://colab.research.google.com/notebooks/data_table.ipynb>data table notebook</a>'\n",
              "          + ' to learn more about interactive tables.';\n",
              "        element.innerHTML = '';\n",
              "        dataTable['output_type'] = 'display_data';\n",
              "        await google.colab.output.renderOutput(dataTable, element);\n",
              "        const docLink = document.createElement('div');\n",
              "        docLink.innerHTML = docLinkHtml;\n",
              "        element.appendChild(docLink);\n",
              "      }\n",
              "    </script>\n",
              "  </div>\n",
              "\n",
              "\n",
              "<div id=\"df-3e270a36-b463-4278-a266-b2c30d3c60f3\">\n",
              "  <button class=\"colab-df-quickchart\" onclick=\"quickchart('df-3e270a36-b463-4278-a266-b2c30d3c60f3')\"\n",
              "            title=\"Suggest charts.\"\n",
              "            style=\"display:none;\">\n",
              "\n",
              "<svg xmlns=\"http://www.w3.org/2000/svg\" height=\"24px\"viewBox=\"0 0 24 24\"\n",
              "     width=\"24px\">\n",
              "    <g>\n",
              "        <path d=\"M19 3H5c-1.1 0-2 .9-2 2v14c0 1.1.9 2 2 2h14c1.1 0 2-.9 2-2V5c0-1.1-.9-2-2-2zM9 17H7v-7h2v7zm4 0h-2V7h2v10zm4 0h-2v-4h2v4z\"/>\n",
              "    </g>\n",
              "</svg>\n",
              "  </button>\n",
              "\n",
              "<style>\n",
              "  .colab-df-quickchart {\n",
              "      --bg-color: #E8F0FE;\n",
              "      --fill-color: #1967D2;\n",
              "      --hover-bg-color: #E2EBFA;\n",
              "      --hover-fill-color: #174EA6;\n",
              "      --disabled-fill-color: #AAA;\n",
              "      --disabled-bg-color: #DDD;\n",
              "  }\n",
              "\n",
              "  [theme=dark] .colab-df-quickchart {\n",
              "      --bg-color: #3B4455;\n",
              "      --fill-color: #D2E3FC;\n",
              "      --hover-bg-color: #434B5C;\n",
              "      --hover-fill-color: #FFFFFF;\n",
              "      --disabled-bg-color: #3B4455;\n",
              "      --disabled-fill-color: #666;\n",
              "  }\n",
              "\n",
              "  .colab-df-quickchart {\n",
              "    background-color: var(--bg-color);\n",
              "    border: none;\n",
              "    border-radius: 50%;\n",
              "    cursor: pointer;\n",
              "    display: none;\n",
              "    fill: var(--fill-color);\n",
              "    height: 32px;\n",
              "    padding: 0;\n",
              "    width: 32px;\n",
              "  }\n",
              "\n",
              "  .colab-df-quickchart:hover {\n",
              "    background-color: var(--hover-bg-color);\n",
              "    box-shadow: 0 1px 2px rgba(60, 64, 67, 0.3), 0 1px 3px 1px rgba(60, 64, 67, 0.15);\n",
              "    fill: var(--button-hover-fill-color);\n",
              "  }\n",
              "\n",
              "  .colab-df-quickchart-complete:disabled,\n",
              "  .colab-df-quickchart-complete:disabled:hover {\n",
              "    background-color: var(--disabled-bg-color);\n",
              "    fill: var(--disabled-fill-color);\n",
              "    box-shadow: none;\n",
              "  }\n",
              "\n",
              "  .colab-df-spinner {\n",
              "    border: 2px solid var(--fill-color);\n",
              "    border-color: transparent;\n",
              "    border-bottom-color: var(--fill-color);\n",
              "    animation:\n",
              "      spin 1s steps(1) infinite;\n",
              "  }\n",
              "\n",
              "  @keyframes spin {\n",
              "    0% {\n",
              "      border-color: transparent;\n",
              "      border-bottom-color: var(--fill-color);\n",
              "      border-left-color: var(--fill-color);\n",
              "    }\n",
              "    20% {\n",
              "      border-color: transparent;\n",
              "      border-left-color: var(--fill-color);\n",
              "      border-top-color: var(--fill-color);\n",
              "    }\n",
              "    30% {\n",
              "      border-color: transparent;\n",
              "      border-left-color: var(--fill-color);\n",
              "      border-top-color: var(--fill-color);\n",
              "      border-right-color: var(--fill-color);\n",
              "    }\n",
              "    40% {\n",
              "      border-color: transparent;\n",
              "      border-right-color: var(--fill-color);\n",
              "      border-top-color: var(--fill-color);\n",
              "    }\n",
              "    60% {\n",
              "      border-color: transparent;\n",
              "      border-right-color: var(--fill-color);\n",
              "    }\n",
              "    80% {\n",
              "      border-color: transparent;\n",
              "      border-right-color: var(--fill-color);\n",
              "      border-bottom-color: var(--fill-color);\n",
              "    }\n",
              "    90% {\n",
              "      border-color: transparent;\n",
              "      border-bottom-color: var(--fill-color);\n",
              "    }\n",
              "  }\n",
              "</style>\n",
              "\n",
              "  <script>\n",
              "    async function quickchart(key) {\n",
              "      const quickchartButtonEl =\n",
              "        document.querySelector('#' + key + ' button');\n",
              "      quickchartButtonEl.disabled = true;  // To prevent multiple clicks.\n",
              "      quickchartButtonEl.classList.add('colab-df-spinner');\n",
              "      try {\n",
              "        const charts = await google.colab.kernel.invokeFunction(\n",
              "            'suggestCharts', [key], {});\n",
              "      } catch (error) {\n",
              "        console.error('Error during call to suggestCharts:', error);\n",
              "      }\n",
              "      quickchartButtonEl.classList.remove('colab-df-spinner');\n",
              "      quickchartButtonEl.classList.add('colab-df-quickchart-complete');\n",
              "    }\n",
              "    (() => {\n",
              "      let quickchartButtonEl =\n",
              "        document.querySelector('#df-3e270a36-b463-4278-a266-b2c30d3c60f3 button');\n",
              "      quickchartButtonEl.style.display =\n",
              "        google.colab.kernel.accessAllowed ? 'block' : 'none';\n",
              "    })();\n",
              "  </script>\n",
              "</div>\n",
              "    </div>\n",
              "  </div>\n"
            ]
          },
          "metadata": {},
          "execution_count": 6
        }
      ]
    },
    {
      "cell_type": "markdown",
      "source": [
        "Trabajaremos en principio con la versión logarítmica de la serie.\n",
        "\n",
        "*We will work initially with the logarithmic version of the series.*"
      ],
      "metadata": {
        "id": "e6vWP5fwql_N"
      }
    },
    {
      "cell_type": "markdown",
      "source": [
        "## Orden de diferenciación (d)/ Order of differencing (d)"
      ],
      "metadata": {
        "id": "asryULnEr2a5"
      }
    },
    {
      "cell_type": "markdown",
      "source": [
        "El propósito de la diferenciación es lograr la estacionariedad en la serie temporal.\n",
        "\n",
        "Sin embargo, es importante tener cuidado de no aplicar demasiadas diferenciaciones a la serie, ya que un exceso de diferenciación puede mantener la serie estacionaria pero afectar negativamente los parámetros del modelo.\n",
        "\n",
        "Entonces, ¿cómo determinar el orden de diferenciación adecuado?\n",
        "\n",
        "El orden de diferenciación adecuado es el mínimo necesario para obtener una serie casi estacionaria que fluctúe alrededor de una media definida y cuya función de autocorrelación (ACF) converja rápidamente a cero.\n",
        "\n",
        "Si las autocorrelaciones son predominantemente positivas para muchos rezagos (10 o más), entonces la serie puede requerir una mayor diferenciación. Por otro lado, si la autocorrelación en el primer rezago es muy negativa, es posible que la serie esté sobre-diferenciada.\n",
        "\n",
        "En caso de que no pueda decidir entre dos órdenes de diferenciación, elija el orden que resulte en una desviación estándar más baja en la serie diferenciada."
      ],
      "metadata": {
        "id": "4Z7BUEp_yLVj"
      }
    },
    {
      "cell_type": "markdown",
      "source": [
        "*The purpose of differencing is to achieve stationarity in the time series.*\n",
        "\n",
        "*However, it is important to be cautious about over-differencing the series because excessive differencing can maintain stationarity but adversely affect the model's parameters.*\n",
        "\n",
        "*So, how do we determine the appropriate order of differencing?*\n",
        "\n",
        "*The correct order of differencing is the minimum required to obtain a nearly stationary series that fluctuates around a defined mean, and its Autocorrelation Function (ACF) quickly converges to zero.*\n",
        "\n",
        "*If autocorrelations are mostly positive for many lags (10 or more), then the series may need further differencing. Conversely, if the autocorrelation at lag 1 is overly negative, the series may be over-differenced.*\n",
        "\n",
        "*In the event you cannot decide between two orders of differencing, opt for the order that results in the lowest standard deviation in the differenced series.*"
      ],
      "metadata": {
        "id": "MfKpeqqjyNvD"
      }
    },
    {
      "cell_type": "markdown",
      "source": [
        "En nuestro capitulo 2 hemos realizado la prueba de D. Fuller sobre la serie logarítmica y concluimos que la serie es estacionaria, por lo tanto, para este caso, podemos decir que d=0.\n",
        "\n",
        "*In our Chapter 2, we conducted the Dickey-Fuller test on the logarithmic series and concluded that the series is stationary. Therefore, for this case, we can say that d=0.*"
      ],
      "metadata": {
        "id": "UXKf5ABdy8QY"
      }
    },
    {
      "cell_type": "markdown",
      "source": [
        "## Orden del término AR (p)/ *Order of the AR term (p)*"
      ],
      "metadata": {
        "id": "rf7gcx-czZhX"
      }
    },
    {
      "cell_type": "markdown",
      "source": [
        "El siguiente paso consiste en identificar si el modelo requiere algún término autoregresivo (AR). Podemos determinar la cantidad necesaria de términos AR al examinar el gráfico de Autocorrelación Parcial (PACF). ¿Cómo encontramos el número de términos AR?\n",
        "\n",
        "Cualquier autocorrelación en una serie estacionaria se puede corregir mediante la adición de suficientes términos AR. Por lo tanto, inicialmente, tomamos el orden del término AR como igual al número de rezagos que cruzan el límite de significancia en el gráfico PACF.\n",
        "\n",
        "\n",
        "*The next step is to identify if the model requires any autoregressive (AR) terms. We can determine the necessary number of AR terms by examining the Partial Autocorrelation Function (PACF) plot. How do we find the number of AR terms?*\n",
        "\n",
        "*Any autocorrelation in a stationary series can be rectified by adding enough AR terms. Therefore, initially, we take the order of the AR term to be equal to the number of lags that cross the significance boundary in the PACF plot.*"
      ],
      "metadata": {
        "id": "3VvULnVJzqzZ"
      }
    },
    {
      "cell_type": "code",
      "source": [
        "def PACF(df, column):\n",
        "  pacf_values = sm.tsa.pacf(df, nlags=20, method='ols')\n",
        "  plt.figure(figsize=(12, 6))\n",
        "  plot_pacf(df, lags=20)\n",
        "  plt.xlabel('Lag')\n",
        "  plt.ylabel('Autocorrelation coefficient')\n",
        "  plt.title(f'Partial autocorrelation of column: \"{column}\"')\n",
        "  plt.show()"
      ],
      "metadata": {
        "id": "Uy849Z0Yr7g5"
      },
      "execution_count": 7,
      "outputs": []
    },
    {
      "cell_type": "code",
      "source": [
        "PACF(df['log'], 'log')"
      ],
      "metadata": {
        "colab": {
          "base_uri": "https://localhost:8080/",
          "height": 490
        },
        "id": "tCaeT5Qm27tN",
        "outputId": "5772df7e-d10e-4215-896e-912179d4d61d"
      },
      "execution_count": 8,
      "outputs": [
        {
          "output_type": "display_data",
          "data": {
            "text/plain": [
              "<Figure size 1200x600 with 0 Axes>"
            ]
          },
          "metadata": {}
        },
        {
          "output_type": "display_data",
          "data": {
            "text/plain": [
              "<Figure size 640x480 with 1 Axes>"
            ],
            "image/png": "[encoded data removed]"
          },
          "metadata": {}
        }
      ]
    },
    {
      "cell_type": "markdown",
      "source": [
        "Ajustaremos el término AR en 1.\n",
        "\n",
        "*We will set the AR term to 1.*\n"
      ],
      "metadata": {
        "id": "n4Mox9664XbA"
      }
    },
    {
      "cell_type": "markdown",
      "source": [
        "## Orden del término MA (q)/ *Order of the MA term (q)*"
      ],
      "metadata": {
        "id": "v4G7P64-41Hj"
      }
    },
    {
      "cell_type": "markdown",
      "source": [
        "De manera similar a cómo observamos el gráfico de PACF para determinar el número de términos AR, podemos examinar el gráfico de ACF para el número de términos MA. Un término MA representa técnicamente el error de pronóstico retrasado.\n",
        "\n",
        "El ACF nos indica cuántos términos MA se necesitan para eliminar cualquier autocorrelación en la serie estacionaria.\n",
        "\n",
        "Echemos un vistazo al gráfico de autocorrelación.\n",
        "\n",
        "Vemos que un par de rezagos están significativamente por encima de la línea de importancia. Por lo tanto, podemos establecer tentativamente q en 1. En caso de duda, es preferible optar por el modelo más simple que explique adecuadamente la variable Y.\n",
        "\n",
        "\n",
        "\n",
        "\n",
        "*In the same way that we observe the PACF plot for the number of AR terms, we can examine the ACF plot for the number of MA terms. A MA term technically represents the lagged forecast error.*\n",
        "\n",
        "*The ACF plot indicates how many MA terms are needed to eliminate any autocorrelation in the stationary series.*\n",
        "\n",
        "*Let's take a look at the autocorrelation plot.*\n",
        "\n",
        "*We see that a couple of lags are significantly above the significance line. Therefore, we can tentatively set q to 1. When in doubt, it's preferable to choose the simpler model that adequately explains the variable Y.*"
      ],
      "metadata": {
        "id": "DE5k39zH46nB"
      }
    },
    {
      "cell_type": "markdown",
      "source": [
        "## Arima (1,0,1)"
      ],
      "metadata": {
        "id": "oeEO5QMn61cX"
      }
    },
    {
      "cell_type": "markdown",
      "source": [
        "Crearemos entonces un modelo sin diferenciación, con un término AR de 1 y un término MA de 1.\n",
        "\n",
        "*We will then create a model without differencing, with an AR term of 1, and an MA term of 1.*"
      ],
      "metadata": {
        "id": "nwCodrb8P1kj"
      }
    },
    {
      "cell_type": "code",
      "source": [
        "dfLog = df[['log']]\n",
        "trainLog = dfLog.loc[dfLog.index < '2023-01-01']\n",
        "testLog = dfLog.loc[dfLog.index >= '2023-01-01']"
      ],
      "metadata": {
        "id": "FpDMsK5I8nJh"
      },
      "execution_count": 9,
      "outputs": []
    },
    {
      "cell_type": "code",
      "source": [
        "trainLog.shape"
      ],
      "metadata": {
        "colab": {
          "base_uri": "https://localhost:8080/"
        },
        "id": "fnlkYRl5-hoS",
        "outputId": "1ca5391b-2784-4e98-bd6e-86b666767c8d"
      },
      "execution_count": 10,
      "outputs": [
        {
          "output_type": "execute_result",
          "data": {
            "text/plain": [
              "(4551, 1)"
            ]
          },
          "metadata": {},
          "execution_count": 10
        }
      ]
    },
    {
      "cell_type": "code",
      "source": [
        "testLog.shape"
      ],
      "metadata": {
        "colab": {
          "base_uri": "https://localhost:8080/"
        },
        "id": "rP3aFiSc-j48",
        "outputId": "9893eaf4-3641-4f9b-c342-edfd95bd9b23"
      },
      "execution_count": 11,
      "outputs": [
        {
          "output_type": "execute_result",
          "data": {
            "text/plain": [
              "(252, 1)"
            ]
          },
          "metadata": {},
          "execution_count": 11
        }
      ]
    },
    {
      "cell_type": "code",
      "source": [
        "from statsmodels.tsa.arima.model import ARIMA\n",
        "# 1,0,1 ARIMA Model\n",
        "model1 = ARIMA(trainLog, order=(1,0,1))\n",
        "model_fit1 = model1.fit()\n",
        "model_fit1.summary()"
      ],
      "metadata": {
        "colab": {
          "base_uri": "https://localhost:8080/",
          "height": 448
        },
        "id": "rrlvwlHs6tG9",
        "outputId": "efd335f4-4f76-4aac-937c-ace42326b844"
      },
      "execution_count": 12,
      "outputs": [
        {
          "output_type": "execute_result",
          "data": {
            "text/plain": [
              "<class 'statsmodels.iolib.summary.Summary'>\n",
              "\"\"\"\n",
              "                               SARIMAX Results                                \n",
              "==============================================================================\n",
              "Dep. Variable:                    log   No. Observations:                 4551\n",
              "Model:                 ARIMA(1, 0, 1)   Log Likelihood                6335.219\n",
              "Date:                Wed, 11 Oct 2023   AIC                         -12662.437\n",
              "Time:                        19:02:53   BIC                         -12636.745\n",
              "Sample:                    07-17-2010   HQIC                        -12653.389\n",
              "                         - 12-31-2022                                         \n",
              "Covariance Type:                  opg                                         \n",
              "==============================================================================\n",
              "                 coef    std err          z      P>|z|      [0.025      0.975]\n",
              "------------------------------------------------------------------------------\n",
              "const          3.6565      5.646      0.648      0.517      -7.410      14.723\n",
              "ar.L1          0.9999      0.000   4070.749      0.000       0.999       1.000\n",
              "ma.L1          0.0401      0.007      5.862      0.000       0.027       0.054\n",
              "sigma2         0.0036    1.1e-05    328.336      0.000       0.004       0.004\n",
              "===================================================================================\n",
              "Ljung-Box (L1) (Q):                   0.56   Jarque-Bera (JB):           2189381.66\n",
              "Prob(Q):                              0.45   Prob(JB):                         0.00\n",
              "Heteroskedasticity (H):               0.18   Skew:                             3.01\n",
              "Prob(H) (two-sided):                  0.00   Kurtosis:                       110.28\n",
              "===================================================================================\n",
              "\n",
              "Warnings:\n",
              "[1] Covariance matrix calculated using the outer product of gradients (complex-step).\n",
              "\"\"\""
            ],
            "text/html": [
              "<table class=\"simpletable\">\n",
              "<caption>SARIMAX Results</caption>\n",
              "<tr>\n",
              "  <th>Dep. Variable:</th>          <td>log</td>       <th>  No. Observations:  </th>    <td>4551</td>   \n",
              "</tr>\n",
              "<tr>\n",
              "  <th>Model:</th>            <td>ARIMA(1, 0, 1)</td>  <th>  Log Likelihood     </th>  <td>6335.219</td> \n",
              "</tr>\n",
              "<tr>\n",
              "  <th>Date:</th>            <td>Wed, 11 Oct 2023</td> <th>  AIC                </th> <td>-12662.437</td>\n",
              "</tr>\n",
              "<tr>\n",
              "  <th>Time:</th>                <td>19:02:53</td>     <th>  BIC                </th> <td>-12636.745</td>\n",
              "</tr>\n",
              "<tr>\n",
              "  <th>Sample:</th>             <td>07-17-2010</td>    <th>  HQIC               </th> <td>-12653.389</td>\n",
              "</tr>\n",
              "<tr>\n",
              "  <th></th>                   <td>- 12-31-2022</td>   <th>                     </th>      <td> </td>    \n",
              "</tr>\n",
              "<tr>\n",
              "  <th>Covariance Type:</th>        <td>opg</td>       <th>                     </th>      <td> </td>    \n",
              "</tr>\n",
              "</table>\n",
              "<table class=\"simpletable\">\n",
              "<tr>\n",
              "     <td></td>       <th>coef</th>     <th>std err</th>      <th>z</th>      <th>P>|z|</th>  <th>[0.025</th>    <th>0.975]</th>  \n",
              "</tr>\n",
              "<tr>\n",
              "  <th>const</th>  <td>    3.6565</td> <td>    5.646</td> <td>    0.648</td> <td> 0.517</td> <td>   -7.410</td> <td>   14.723</td>\n",
              "</tr>\n",
              "<tr>\n",
              "  <th>ar.L1</th>  <td>    0.9999</td> <td>    0.000</td> <td> 4070.749</td> <td> 0.000</td> <td>    0.999</td> <td>    1.000</td>\n",
              "</tr>\n",
              "<tr>\n",
              "  <th>ma.L1</th>  <td>    0.0401</td> <td>    0.007</td> <td>    5.862</td> <td> 0.000</td> <td>    0.027</td> <td>    0.054</td>\n",
              "</tr>\n",
              "<tr>\n",
              "  <th>sigma2</th> <td>    0.0036</td> <td>  1.1e-05</td> <td>  328.336</td> <td> 0.000</td> <td>    0.004</td> <td>    0.004</td>\n",
              "</tr>\n",
              "</table>\n",
              "<table class=\"simpletable\">\n",
              "<tr>\n",
              "  <th>Ljung-Box (L1) (Q):</th>     <td>0.56</td> <th>  Jarque-Bera (JB):  </th> <td>2189381.66</td>\n",
              "</tr>\n",
              "<tr>\n",
              "  <th>Prob(Q):</th>                <td>0.45</td> <th>  Prob(JB):          </th>    <td>0.00</td>   \n",
              "</tr>\n",
              "<tr>\n",
              "  <th>Heteroskedasticity (H):</th> <td>0.18</td> <th>  Skew:              </th>    <td>3.01</td>   \n",
              "</tr>\n",
              "<tr>\n",
              "  <th>Prob(H) (two-sided):</th>    <td>0.00</td> <th>  Kurtosis:          </th>   <td>110.28</td>  \n",
              "</tr>\n",
              "</table><br/><br/>Warnings:<br/>[1] Covariance matrix calculated using the outer product of gradients (complex-step)."
            ],
            "text/latex": "\\begin{center}\n\\begin{tabular}{lclc}\n\\toprule\n\\textbf{Dep. Variable:}          &       log        & \\textbf{  No. Observations:  } &    4551     \\\\\n\\textbf{Model:}                  &  ARIMA(1, 0, 1)  & \\textbf{  Log Likelihood     } &  6335.219   \\\\\n\\textbf{Date:}                   & Wed, 11 Oct 2023 & \\textbf{  AIC                } & -12662.437  \\\\\n\\textbf{Time:}                   &     19:02:53     & \\textbf{  BIC                } & -12636.745  \\\\\n\\textbf{Sample:}                 &    07-17-2010    & \\textbf{  HQIC               } & -12653.389  \\\\\n\\textbf{}                        &   - 12-31-2022   & \\textbf{                     } &             \\\\\n\\textbf{Covariance Type:}        &       opg        & \\textbf{                     } &             \\\\\n\\bottomrule\n\\end{tabular}\n\\begin{tabular}{lcccccc}\n                & \\textbf{coef} & \\textbf{std err} & \\textbf{z} & \\textbf{P$> |$z$|$} & \\textbf{[0.025} & \\textbf{0.975]}  \\\\\n\\midrule\n\\textbf{const}  &       3.6565  &        5.646     &     0.648  &         0.517        &       -7.410    &       14.723     \\\\\n\\textbf{ar.L1}  &       0.9999  &        0.000     &  4070.749  &         0.000        &        0.999    &        1.000     \\\\\n\\textbf{ma.L1}  &       0.0401  &        0.007     &     5.862  &         0.000        &        0.027    &        0.054     \\\\\n\\textbf{sigma2} &       0.0036  &      1.1e-05     &   328.336  &         0.000        &        0.004    &        0.004     \\\\\n\\bottomrule\n\\end{tabular}\n\\begin{tabular}{lclc}\n\\textbf{Ljung-Box (L1) (Q):}     & 0.56 & \\textbf{  Jarque-Bera (JB):  } & 2189381.66  \\\\\n\\textbf{Prob(Q):}                & 0.45 & \\textbf{  Prob(JB):          } &    0.00     \\\\\n\\textbf{Heteroskedasticity (H):} & 0.18 & \\textbf{  Skew:              } &    3.01     \\\\\n\\textbf{Prob(H) (two-sided):}    & 0.00 & \\textbf{  Kurtosis:          } &   110.28    \\\\\n\\bottomrule\n\\end{tabular}\n%\\caption{SARIMAX Results}\n\\end{center}\n\nWarnings: \\newline\n [1] Covariance matrix calculated using the outer product of gradients (complex-step)."
          },
          "metadata": {},
          "execution_count": 12
        }
      ]
    },
    {
      "cell_type": "markdown",
      "source": [
        "Lo primero que debemos mirar son los coeficientes de nuestros parámetros; si el número del coeficiente esta cercano a 0 significa que ese parametro especifico tiene poca relevancia en nuestro modelo.\n",
        "Otro punto que debemos atender es el valor \tP>|z|, este debe ser cercano a 0 para que esos parámetros sean relevantes para nuestro modelo."
      ],
      "metadata": {
        "id": "_Y_XFtwTfDlO"
      }
    },
    {
      "cell_type": "markdown",
      "source": [
        "*The first thing we should look at is the coefficients of our parameters. If the coefficient's value is close to 0, it means that specific parameter has little relevance in our model. Another point to consider is the value P>|z|, which should be close to 0 for those parameters to be relevant in our model.*"
      ],
      "metadata": {
        "id": "sXv7JrpmgEqV"
      }
    },
    {
      "cell_type": "markdown",
      "source": [
        "### Explicación de los resultados/ *Explication of the results*"
      ],
      "metadata": {
        "id": "r2rPbf3NDdLe"
      }
    },
    {
      "cell_type": "markdown",
      "source": [
        "Log Likelihood (Verosimilitud en Logaritmos):\n",
        "\n",
        "  Objetivo: Medir cuán bien se ajusta el modelo a los datos observados. Un valor más alto es mejor.\n",
        "\n",
        "  Valor en nuestro modelo: El valor es 6335.219, que es bastante alto, lo que sugiere que el modelo se ajusta bien a los datos observados. Esto es positivo.\n",
        "\n",
        "Criterios de Información (AIC, BIC, HQIC):\n",
        "\n",
        "  Objetivo: Proporcionar criterios para comparar diferentes modelos. Valores más bajos indican un mejor ajuste.\n",
        "\n",
        "  Valor en nuestro modelo: En tu modelo, los valores son AIC = -12662.437, BIC = -12636.745 y HQIC = -12653.389. Estos valores son deseados ya que son bajos y sugieren un buen ajuste del modelo.\n",
        "\n",
        "Sigma2:\n",
        "\n",
        "  Objetivo: Representa la varianza del error. Cuanto menor sea este valor, mejor.\n",
        "\n",
        "  Valor en nuestro modelo: Sigma2 es 0.0036, que es un valor bajo. Esto sugiere una baja varianza del error, lo cual es positivo."
      ],
      "metadata": {
        "id": "56uxNBK0DoQy"
      }
    },
    {
      "cell_type": "markdown",
      "source": [
        "*Log Likelihood (Logarithmic Likelihood):*\n",
        "\n",
        "*Objective: Measure how well the model fits the observed data. A higher value is better.*\n",
        "\n",
        "*Value in our model: The value is 6335.219, which is quite high, suggesting that the model fits the observed data well. This is positive.*\n",
        "\n",
        "*Information Criteria (AIC, BIC, HQIC):*\n",
        "\n",
        "*Objective: Provide criteria for comparing different models. Lower values indicate a better fit.*\n",
        "\n",
        "*Value in our model: In your model, the values are AIC = -12662.437, BIC = -12636.745, and HQIC = -12653.389. These values are desirable as they are low and suggest a good model fit.*\n",
        "\n",
        "*Sigma2:*\n",
        "\n",
        "*Objective: Represents the error variance. A lower value is better.*\n",
        "\n",
        "*Value in our model: Sigma2 is 0.0036, which is a low value. This suggests low error variance, which is positive.*"
      ],
      "metadata": {
        "id": "K94MRaa3Eo2O"
      }
    },
    {
      "cell_type": "markdown",
      "source": [
        "### Residuos/ *Residuals*"
      ],
      "metadata": {
        "id": "PtR7SiZDAb1k"
      }
    },
    {
      "cell_type": "markdown",
      "source": [
        "En base a estas pruebas, nuestro modelo parece tener problemas significativos, especialmente en términos de distribución no normal de los residuos y heteroscedasticidad. Ahondemos en este punto, para intentar mejorar esas variables:\n",
        "\n",
        "*Based on these tests, our model appears to have significant issues, especially in terms of non-normal distribution of residuals and heteroscedasticity. Let's delve deeper into this point to try and improve these variables.*"
      ],
      "metadata": {
        "id": "a9ajRL_2_7sZ"
      }
    },
    {
      "cell_type": "markdown",
      "source": [
        "\n",
        "1. **Ljung-Box (Q):**\n",
        "   - Objetivo: Queremos que los residuos no estén autocorrelacionados, lo que significa que no deben mostrar patrones sistemáticos en su autocorrelación.\n",
        "   - Valor Óptimo: El valor Q debe ser bajo o cercano a cero.\n",
        "   - Valor en nuestro modelo: El valor Q es 0.56, lo que sugiere que los residuos no están autocorrelacionados de manera significativa. Esto es positivo.\n",
        "\n",
        "2. **Jarque-Bera (JB):**\n",
        "   - Objetivo: Queremos que los residuos sigan una distribución normal. Un valor alto indica que los residuos no siguen una distribución normal.\n",
        "   - Valor Óptimo: El valor JB debe ser bajo.\n",
        "   - Valor en nuestro modelo: El valor JB es extremadamente alto (2189381.66).  Este es un problema importante y sugiere que los residuos tienen una distribución no normal.\n",
        "\n",
        "3. **Heteroskedasticity (H):**\n",
        "   - Objetivo: Queremos que los residuos tengan una varianza constante a lo largo del tiempo. Un valor bajo indica que los residuos tienen una varianza constante.\n",
        "   - Valor Óptimo: El valor H debe ser bajo.\n",
        "  - Valor en nuestro modelo: El valor H es 0.18, lo que sugiere que los residuos no tienen una varianza constante. Esto es un problema y sugiere que la varianza de los residuos cambia a lo largo del tiempo.\n",
        "\n",
        "  \n",
        "\n"
      ],
      "metadata": {
        "id": "WCxZrOJvAgcU"
      }
    },
    {
      "cell_type": "markdown",
      "source": [
        "*1. Ljung-Box (Q):*\n",
        "\n",
        "*-Objective: We want the residuals to be uncorrelated, meaning they should not exhibit systematic patterns in their autocorrelation.*\n",
        "\n",
        "*-Optimal Value: The Q value should be low or close to zero.*\n",
        "\n",
        "*-Value in Our Model: The Q value is 0.56, suggesting that the residuals are not significantly autocorrelated. This is positive.*\n",
        "\n",
        "*2. Jarque-Bera (JB):*\n",
        "\n",
        "*-Objective: We want the residuals to follow a normal distribution. A high value indicates that the residuals do not follow a normal distribution.*\n",
        "\n",
        "*-Optimal Value: The JB value should be low.*\n",
        "\n",
        "*-Value in Our Model: The JB value is extremely high (2189381.66). This is a significant issue and suggests that the residuals do not have a normal distribution.*\n",
        "\n",
        "*3. Heteroskedasticity (H):*\n",
        "\n",
        "*-Objective: We want the residuals to have constant variance over time. A low value indicates that the residuals have constant variance.*\n",
        "\n",
        "*-Optimal Value: The H value should be low.*\n",
        "\n",
        "*-Value in Our Model: The H value is 0.18, suggesting that the residuals do not have constant variance. This is a problem and suggests that the variance of the residuals changes over time.*\n",
        "\n"
      ],
      "metadata": {
        "id": "q7fK7eFTBP53"
      }
    },
    {
      "cell_type": "code",
      "source": [
        "resid = model_fit1.resid\n",
        "resid.plot()"
      ],
      "metadata": {
        "colab": {
          "base_uri": "https://localhost:8080/",
          "height": 467
        },
        "id": "NfasoQIS4pd3",
        "outputId": "fce7e03a-a895-4065-e1db-1976a056fb26"
      },
      "execution_count": 13,
      "outputs": [
        {
          "output_type": "execute_result",
          "data": {
            "text/plain": [
              "<Axes: xlabel='date'>"
            ]
          },
          "metadata": {},
          "execution_count": 13
        },
        {
          "output_type": "display_data",
          "data": {
            "text/plain": [
              "<Figure size 640x480 with 1 Axes>"
            ],
            "image/png": "[encoded data removed]"
          },
          "metadata": {}
        }
      ]
    },
    {
      "cell_type": "code",
      "source": [
        "resid.plot(kind='kde')"
      ],
      "metadata": {
        "colab": {
          "base_uri": "https://localhost:8080/",
          "height": 448
        },
        "id": "Qv5sWxvGFxyl",
        "outputId": "c42a35ec-e08e-406c-e400-dd459c018a1d"
      },
      "execution_count": 14,
      "outputs": [
        {
          "output_type": "execute_result",
          "data": {
            "text/plain": [
              "<Axes: ylabel='Density'>"
            ]
          },
          "metadata": {},
          "execution_count": 14
        },
        {
          "output_type": "display_data",
          "data": {
            "text/plain": [
              "<Figure size 640x480 with 1 Axes>"
            ],
            "image/png": "[encoded data removed]"
          },
          "metadata": {}
        }
      ]
    },
    {
      "cell_type": "code",
      "source": [
        "# summary stats of residuals\n",
        "print(resid.describe())"
      ],
      "metadata": {
        "colab": {
          "base_uri": "https://localhost:8080/"
        },
        "id": "-dCb_cBfFzKX",
        "outputId": "a0d6e49d-b19b-4bf6-d6c4-5bc1d5243cc7"
      },
      "execution_count": 15,
      "outputs": [
        {
          "output_type": "stream",
          "name": "stdout",
          "text": [
            "count    4551.000000\n",
            "mean        0.001371\n",
            "std         0.115597\n",
            "min        -6.662054\n",
            "25%        -0.013851\n",
            "50%         0.001476\n",
            "75%         0.020630\n",
            "max         1.483466\n",
            "dtype: float64\n"
          ]
        }
      ]
    },
    {
      "cell_type": "markdown",
      "source": [
        "La media cercana a cero es una señal positiva, ya que indica que el modelo no tiene un sesgo sistemático en sus predicciones.\n",
        "\n",
        "La desviación estándar debe ser lo más baja posible, indicando residuos con poca dispersión alrededor de la media.\n",
        "\n",
        "El rango de valores de los residuos es bastante amplio, con un valor mínimo de -6.662054 y un valor máximo de 1.483466. Esto nos confirma que existen valores atípicos y que los residuos no siguen una distribución normal.\n",
        "\n"
      ],
      "metadata": {
        "id": "VGIRgMfDHM90"
      }
    },
    {
      "cell_type": "markdown",
      "source": [
        "*A mean close to zero is a positive signal as it indicates that the model does not have systematic bias in its predictions.*\n",
        "\n",
        "*The standard deviation should be as low as possible, indicating residuals with little dispersion around the mean.*\n",
        "\n",
        "*The range of residual values is quite wide, with a minimum value of -6.662054 and a maximum value of 1.483466. This confirms the presence of outliers and suggests that the residuals do not follow a normal distribution.*"
      ],
      "metadata": {
        "id": "b-aQaR4RIDCJ"
      }
    },
    {
      "cell_type": "markdown",
      "source": [
        "## Shapiro-Wilk Test"
      ],
      "metadata": {
        "id": "Tv9r5F1yTceL"
      }
    },
    {
      "cell_type": "markdown",
      "source": [
        "Haremos el Test de normalidad de Shapiro para analizar los residuos y confirmar nuestra suposición. Si el valor p es mayor que 0.05 (el nivel de significancia), se acepta la hipótesis nula de normalidad.\n",
        "\n",
        "*We will perform the Shapiro-Wilk normality test to analyze the residuals and confirm our assumption. If the p-value is less than 0.05 (the significance level) we accept the H0.*"
      ],
      "metadata": {
        "id": "OzKJ2H5_UD2P"
      }
    },
    {
      "cell_type": "code",
      "source": [
        "\n",
        "statistic, p_value = stats.shapiro(resid)\n",
        "\n",
        "print(\"Statistic Test:\", statistic)\n",
        "print(\"p value:\", p_value)\n",
        "\n",
        "\n",
        "alpha = 0.05  # Significance level\n",
        "if p_value > alpha:\n",
        "    print(\"The data appears to follow a normal distribution (H0 not rejected)\")\n",
        "else:\n",
        "    print(\"The data does not follow a normal distribution (H0 rejected)\")"
      ],
      "metadata": {
        "colab": {
          "base_uri": "https://localhost:8080/"
        },
        "id": "SQF9OT9lTHnw",
        "outputId": "bfabff22-dd48-4b66-8de2-5b060735d8b1"
      },
      "execution_count": 26,
      "outputs": [
        {
          "output_type": "stream",
          "name": "stdout",
          "text": [
            "Statistic Test: 0.23146647214889526\n",
            "p value: 0.0\n",
            "The data does not follow a normal distribution (H0 rejected)\n"
          ]
        }
      ]
    },
    {
      "cell_type": "markdown",
      "source": [
        "## Auto-Arima"
      ],
      "metadata": {
        "id": "ECtnOf__HHMy"
      }
    },
    {
      "cell_type": "markdown",
      "source": [
        "Pudimos ver que nuestro modelo ARIMA creado manualmente, a partir de indagar las funciones de autocorrelación, nos dió un resultado con una distribución no-normal de residuos.\n",
        "Buscaremos los mejores parametros ahora utilizando la versión automática del modelo Arima.\n",
        "\n",
        "*We observed that our manually created ARIMA model, based on investigating autocorrelation functions, yielded a result with non-normal distribution of residuals. We will now search for the best parameters using the automated version of the Arima model.*"
      ],
      "metadata": {
        "id": "wAWwHDr-PJPk"
      }
    },
    {
      "cell_type": "code",
      "source": [
        "!pip install pmdarima"
      ],
      "metadata": {
        "colab": {
          "base_uri": "https://localhost:8080/"
        },
        "id": "GN_0LpS_HKbM",
        "outputId": "ee584c1f-24a0-4ed4-ab95-281c6a221797"
      },
      "execution_count": 16,
      "outputs": [
        {
          "output_type": "stream",
          "name": "stdout",
          "text": [
            "Requirement already satisfied: pmdarima in /usr/local/lib/python3.10/dist-packages (2.0.3)\n",
            "Requirement already satisfied: joblib>=0.11 in /usr/local/lib/python3.10/dist-packages (from pmdarima) (1.3.2)\n",
            "Requirement already satisfied: Cython!=0.29.18,!=0.29.31,>=0.29 in /usr/local/lib/python3.10/dist-packages (from pmdarima) (3.0.3)\n",
            "Requirement already satisfied: numpy>=1.21.2 in /usr/local/lib/python3.10/dist-packages (from pmdarima) (1.23.5)\n",
            "Requirement already satisfied: pandas>=0.19 in /usr/local/lib/python3.10/dist-packages (from pmdarima) (1.5.3)\n",
            "Requirement already satisfied: scikit-learn>=0.22 in /usr/local/lib/python3.10/dist-packages (from pmdarima) (1.2.2)\n",
            "Requirement already satisfied: scipy>=1.3.2 in /usr/local/lib/python3.10/dist-packages (from pmdarima) (1.11.3)\n",
            "Requirement already satisfied: statsmodels>=0.13.2 in /usr/local/lib/python3.10/dist-packages (from pmdarima) (0.14.0)\n",
            "Requirement already satisfied: urllib3 in /usr/local/lib/python3.10/dist-packages (from pmdarima) (2.0.6)\n",
            "Requirement already satisfied: setuptools!=50.0.0,>=38.6.0 in /usr/local/lib/python3.10/dist-packages (from pmdarima) (67.7.2)\n",
            "Requirement already satisfied: python-dateutil>=2.8.1 in /usr/local/lib/python3.10/dist-packages (from pandas>=0.19->pmdarima) (2.8.2)\n",
            "Requirement already satisfied: pytz>=2020.1 in /usr/local/lib/python3.10/dist-packages (from pandas>=0.19->pmdarima) (2023.3.post1)\n",
            "Requirement already satisfied: threadpoolctl>=2.0.0 in /usr/local/lib/python3.10/dist-packages (from scikit-learn>=0.22->pmdarima) (3.2.0)\n",
            "Requirement already satisfied: patsy>=0.5.2 in /usr/local/lib/python3.10/dist-packages (from statsmodels>=0.13.2->pmdarima) (0.5.3)\n",
            "Requirement already satisfied: packaging>=21.3 in /usr/local/lib/python3.10/dist-packages (from statsmodels>=0.13.2->pmdarima) (23.2)\n",
            "Requirement already satisfied: six in /usr/local/lib/python3.10/dist-packages (from patsy>=0.5.2->statsmodels>=0.13.2->pmdarima) (1.16.0)\n"
          ]
        }
      ]
    },
    {
      "cell_type": "code",
      "source": [
        "from pmdarima import auto_arima"
      ],
      "metadata": {
        "id": "2g1LHK5QHYD3"
      },
      "execution_count": 17,
      "outputs": []
    },
    {
      "cell_type": "code",
      "source": [
        "model = auto_arima(y = trainLog, seasonal=False, d=1,\n",
        "                      start_p=1, start_q=1, max_order=5, test='adf',error_action='ignore',\n",
        "                           suppress_warnings=True,\n",
        "                      stepwise=True, trace=True)\n",
        "print('modelo Auto Arima entrenando...(esto puede tomar algunos minutos)')"
      ],
      "metadata": {
        "colab": {
          "base_uri": "https://localhost:8080/"
        },
        "id": "o7ec-G_RHZJ_",
        "outputId": "7393876c-b97a-4f39-b369-63b704c10259"
      },
      "execution_count": 18,
      "outputs": [
        {
          "output_type": "stream",
          "name": "stdout",
          "text": [
            "Performing stepwise search to minimize aic\n",
            " ARIMA(1,1,1)(0,0,0)[0] intercept   : AIC=-12708.516, Time=2.99 sec\n",
            " ARIMA(0,1,0)(0,0,0)[0] intercept   : AIC=-12677.619, Time=0.31 sec\n",
            " ARIMA(1,1,0)(0,0,0)[0] intercept   : AIC=-12678.645, Time=0.24 sec\n",
            " ARIMA(0,1,1)(0,0,0)[0] intercept   : AIC=-12679.973, Time=3.25 sec\n",
            " ARIMA(0,1,0)(0,0,0)[0]             : AIC=-12669.773, Time=0.31 sec\n",
            " ARIMA(2,1,1)(0,0,0)[0] intercept   : AIC=-12780.388, Time=6.93 sec\n",
            " ARIMA(2,1,0)(0,0,0)[0] intercept   : AIC=-12782.292, Time=1.89 sec\n",
            " ARIMA(3,1,0)(0,0,0)[0] intercept   : AIC=-12780.501, Time=2.20 sec\n",
            " ARIMA(3,1,1)(0,0,0)[0] intercept   : AIC=-12778.415, Time=9.82 sec\n",
            " ARIMA(2,1,0)(0,0,0)[0]             : AIC=-12771.739, Time=0.97 sec\n",
            "\n",
            "Best model:  ARIMA(2,1,0)(0,0,0)[0] intercept\n",
            "Total fit time: 28.952 seconds\n",
            "modelo Auto Arima entrenando...(esto puede tomar algunos minutos)\n"
          ]
        }
      ]
    },
    {
      "cell_type": "code",
      "source": [
        "model.summary()"
      ],
      "metadata": {
        "colab": {
          "base_uri": "https://localhost:8080/",
          "height": 448
        },
        "id": "-3JV_FaIIKD_",
        "outputId": "64d3604d-b7d8-40dc-e9a9-d4d869965928"
      },
      "execution_count": 21,
      "outputs": [
        {
          "output_type": "execute_result",
          "data": {
            "text/plain": [
              "<class 'statsmodels.iolib.summary.Summary'>\n",
              "\"\"\"\n",
              "                               SARIMAX Results                                \n",
              "==============================================================================\n",
              "Dep. Variable:                      y   No. Observations:                 4551\n",
              "Model:               SARIMAX(2, 1, 0)   Log Likelihood                6395.146\n",
              "Date:                Wed, 11 Oct 2023   AIC                         -12782.292\n",
              "Time:                        19:04:55   BIC                         -12756.600\n",
              "Sample:                    07-17-2010   HQIC                        -12773.244\n",
              "                         - 12-31-2022                                         \n",
              "Covariance Type:                  opg                                         \n",
              "==============================================================================\n",
              "                 coef    std err          z      P>|z|      [0.025      0.975]\n",
              "------------------------------------------------------------------------------\n",
              "intercept      0.0031      0.001      3.375      0.001       0.001       0.005\n",
              "ar.L1          0.0300      0.007      4.402      0.000       0.017       0.043\n",
              "ar.L2         -0.1526      0.005    -33.189      0.000      -0.162      -0.144\n",
              "sigma2         0.0035   1.63e-05    216.181      0.000       0.003       0.004\n",
              "===================================================================================\n",
              "Ljung-Box (L1) (Q):                   0.00   Jarque-Bera (JB):           1473949.29\n",
              "Prob(Q):                              0.97   Prob(JB):                         0.00\n",
              "Heteroskedasticity (H):               0.19   Skew:                             2.45\n",
              "Prob(H) (two-sided):                  0.00   Kurtosis:                        91.04\n",
              "===================================================================================\n",
              "\n",
              "Warnings:\n",
              "[1] Covariance matrix calculated using the outer product of gradients (complex-step).\n",
              "\"\"\""
            ],
            "text/html": [
              "<table class=\"simpletable\">\n",
              "<caption>SARIMAX Results</caption>\n",
              "<tr>\n",
              "  <th>Dep. Variable:</th>           <td>y</td>        <th>  No. Observations:  </th>    <td>4551</td>   \n",
              "</tr>\n",
              "<tr>\n",
              "  <th>Model:</th>           <td>SARIMAX(2, 1, 0)</td> <th>  Log Likelihood     </th>  <td>6395.146</td> \n",
              "</tr>\n",
              "<tr>\n",
              "  <th>Date:</th>            <td>Wed, 11 Oct 2023</td> <th>  AIC                </th> <td>-12782.292</td>\n",
              "</tr>\n",
              "<tr>\n",
              "  <th>Time:</th>                <td>19:04:55</td>     <th>  BIC                </th> <td>-12756.600</td>\n",
              "</tr>\n",
              "<tr>\n",
              "  <th>Sample:</th>             <td>07-17-2010</td>    <th>  HQIC               </th> <td>-12773.244</td>\n",
              "</tr>\n",
              "<tr>\n",
              "  <th></th>                   <td>- 12-31-2022</td>   <th>                     </th>      <td> </td>    \n",
              "</tr>\n",
              "<tr>\n",
              "  <th>Covariance Type:</th>        <td>opg</td>       <th>                     </th>      <td> </td>    \n",
              "</tr>\n",
              "</table>\n",
              "<table class=\"simpletable\">\n",
              "<tr>\n",
              "      <td></td>         <th>coef</th>     <th>std err</th>      <th>z</th>      <th>P>|z|</th>  <th>[0.025</th>    <th>0.975]</th>  \n",
              "</tr>\n",
              "<tr>\n",
              "  <th>intercept</th> <td>    0.0031</td> <td>    0.001</td> <td>    3.375</td> <td> 0.001</td> <td>    0.001</td> <td>    0.005</td>\n",
              "</tr>\n",
              "<tr>\n",
              "  <th>ar.L1</th>     <td>    0.0300</td> <td>    0.007</td> <td>    4.402</td> <td> 0.000</td> <td>    0.017</td> <td>    0.043</td>\n",
              "</tr>\n",
              "<tr>\n",
              "  <th>ar.L2</th>     <td>   -0.1526</td> <td>    0.005</td> <td>  -33.189</td> <td> 0.000</td> <td>   -0.162</td> <td>   -0.144</td>\n",
              "</tr>\n",
              "<tr>\n",
              "  <th>sigma2</th>    <td>    0.0035</td> <td> 1.63e-05</td> <td>  216.181</td> <td> 0.000</td> <td>    0.003</td> <td>    0.004</td>\n",
              "</tr>\n",
              "</table>\n",
              "<table class=\"simpletable\">\n",
              "<tr>\n",
              "  <th>Ljung-Box (L1) (Q):</th>     <td>0.00</td> <th>  Jarque-Bera (JB):  </th> <td>1473949.29</td>\n",
              "</tr>\n",
              "<tr>\n",
              "  <th>Prob(Q):</th>                <td>0.97</td> <th>  Prob(JB):          </th>    <td>0.00</td>   \n",
              "</tr>\n",
              "<tr>\n",
              "  <th>Heteroskedasticity (H):</th> <td>0.19</td> <th>  Skew:              </th>    <td>2.45</td>   \n",
              "</tr>\n",
              "<tr>\n",
              "  <th>Prob(H) (two-sided):</th>    <td>0.00</td> <th>  Kurtosis:          </th>    <td>91.04</td>  \n",
              "</tr>\n",
              "</table><br/><br/>Warnings:<br/>[1] Covariance matrix calculated using the outer product of gradients (complex-step)."
            ],
            "text/latex": "\\begin{center}\n\\begin{tabular}{lclc}\n\\toprule\n\\textbf{Dep. Variable:}          &        y         & \\textbf{  No. Observations:  } &    4551     \\\\\n\\textbf{Model:}                  & SARIMAX(2, 1, 0) & \\textbf{  Log Likelihood     } &  6395.146   \\\\\n\\textbf{Date:}                   & Wed, 11 Oct 2023 & \\textbf{  AIC                } & -12782.292  \\\\\n\\textbf{Time:}                   &     19:04:55     & \\textbf{  BIC                } & -12756.600  \\\\\n\\textbf{Sample:}                 &    07-17-2010    & \\textbf{  HQIC               } & -12773.244  \\\\\n\\textbf{}                        &   - 12-31-2022   & \\textbf{                     } &             \\\\\n\\textbf{Covariance Type:}        &       opg        & \\textbf{                     } &             \\\\\n\\bottomrule\n\\end{tabular}\n\\begin{tabular}{lcccccc}\n                   & \\textbf{coef} & \\textbf{std err} & \\textbf{z} & \\textbf{P$> |$z$|$} & \\textbf{[0.025} & \\textbf{0.975]}  \\\\\n\\midrule\n\\textbf{intercept} &       0.0031  &        0.001     &     3.375  &         0.001        &        0.001    &        0.005     \\\\\n\\textbf{ar.L1}     &       0.0300  &        0.007     &     4.402  &         0.000        &        0.017    &        0.043     \\\\\n\\textbf{ar.L2}     &      -0.1526  &        0.005     &   -33.189  &         0.000        &       -0.162    &       -0.144     \\\\\n\\textbf{sigma2}    &       0.0035  &     1.63e-05     &   216.181  &         0.000        &        0.003    &        0.004     \\\\\n\\bottomrule\n\\end{tabular}\n\\begin{tabular}{lclc}\n\\textbf{Ljung-Box (L1) (Q):}     & 0.00 & \\textbf{  Jarque-Bera (JB):  } & 1473949.29  \\\\\n\\textbf{Prob(Q):}                & 0.97 & \\textbf{  Prob(JB):          } &    0.00     \\\\\n\\textbf{Heteroskedasticity (H):} & 0.19 & \\textbf{  Skew:              } &    2.45     \\\\\n\\textbf{Prob(H) (two-sided):}    & 0.00 & \\textbf{  Kurtosis:          } &   91.04     \\\\\n\\bottomrule\n\\end{tabular}\n%\\caption{SARIMAX Results}\n\\end{center}\n\nWarnings: \\newline\n [1] Covariance matrix calculated using the outer product of gradients (complex-step)."
          },
          "metadata": {},
          "execution_count": 21
        }
      ]
    },
    {
      "cell_type": "code",
      "source": [
        "predictions = pd.Series(model.predict(n_periods=len(testLog)))"
      ],
      "metadata": {
        "id": "Iqs1Ln7RID1o"
      },
      "execution_count": 20,
      "outputs": []
    },
    {
      "cell_type": "code",
      "source": [
        "MAPE = mean_absolute_percentage_error(testLog['log'], predictions)\n",
        "print(f'The MAPE is : {MAPE}')"
      ],
      "metadata": {
        "colab": {
          "base_uri": "https://localhost:8080/"
        },
        "id": "9wVIkqO9IHlG",
        "outputId": "abbdf3f6-4cfd-40ad-8b50-ba5445f5ca08"
      },
      "execution_count": 23,
      "outputs": [
        {
          "output_type": "stream",
          "name": "stdout",
          "text": [
            "The MAPE is : 0.014812412542870692\n"
          ]
        }
      ]
    },
    {
      "cell_type": "code",
      "source": [
        "df['close'] = np.exp(df['log_close'])"
      ],
      "metadata": {
        "id": "AaocM4_SZefq"
      },
      "execution_count": null,
      "outputs": []
    },
    {
      "cell_type": "code",
      "source": [
        "#Visualize the prediction with original values\n",
        "import datetime\n",
        "start_date = datetime.datetime(2020, 1, 1)\n",
        "\n",
        "fig, ax = plt.subplots()\n",
        "ax.plot(np.exp(trainLog[start_date:]), color=\"blue\")\n",
        "\n",
        "\n",
        "ax.plot(\n",
        "        np.exp(predictions),\n",
        "        color=\"darkgreen\",\n",
        "        ls=\"--\", label='Prediction')\n",
        "\n",
        "ax.plot(np.exp(testLog), color = \"orange\", label='Test Data')\n",
        "# Más personalización de la gráfica\n",
        "ax = plt.gca()\n",
        "ax.tick_params(axis=\"x\", labelrotation = 45)\n",
        "ax.set_title('Auto-Arima', fontsize = 20)\n",
        "ax.set_xlabel(\"Date\")\n",
        "ax.grid()\n",
        "ax.legend()\n",
        "plt.show()"
      ],
      "metadata": {
        "colab": {
          "base_uri": "https://localhost:8080/",
          "height": 516
        },
        "id": "DPOGDfZMIvfp",
        "outputId": "9891994c-8540-4600-ca1b-dfb787eebdc9"
      },
      "execution_count": 28,
      "outputs": [
        {
          "output_type": "display_data",
          "data": {
            "text/plain": [
              "<Figure size 640x480 with 1 Axes>"
            ],
            "image/png": "[encoded data removed]"
          },
          "metadata": {}
        }
      ]
    },
    {
      "cell_type": "markdown",
      "source": [
        "## Conclusión/ Conclusion"
      ],
      "metadata": {
        "id": "Ht0bQNKsKFOB"
      }
    },
    {
      "cell_type": "markdown",
      "source": [
        "Si bien con este último modelo logramos predecir, por lo menos, la direccion del movimiento, está claro que un modelo autoregresivo como el modelo ARIMA no es el más indicado para predecir un activo tan volátil como Bitcoin.\n",
        "La imprevisibilidad de los factores exógenos, el comportamiento no estacionario y la volatilidad extrema de los mercados financieros lleva a modelos con un nivel de error alto. En los siguiente capitulos exploraremos otros modelos, en el afán de conseguir resultados promisorios.\n",
        "\n",
        "*While with this latest model, we managed to predict, at least, the direction of movement, it is clear that an autoregressive model like the ARIMA model is not the most suitable for predicting such a volatile asset as Bitcoin.*\n",
        "\n",
        "*The unpredictability of exogenous factors, non-stationary behavior, and extreme market volatility result in models with a high level of error. In the following chapters, we will explore other models in the quest for promising results.*"
      ],
      "metadata": {
        "id": "fYkaKSruX3Gs"
      }
    }
  ]
}